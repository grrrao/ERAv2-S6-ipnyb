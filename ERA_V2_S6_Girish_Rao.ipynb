{
  "nbformat": 4,
  "nbformat_minor": 0,
  "metadata": {
    "colab": {
      "provenance": []
    },
    "kernelspec": {
      "name": "python3",
      "display_name": "Python 3"
    },
    "accelerator": "GPU"
  },
  "cells": [
    {
      "cell_type": "code",
      "metadata": {
        "id": "0m2JWFliFfKT"
      },
      "source": [
        "from __future__ import print_function\n",
        "import torch\n",
        "import torch.nn as nn\n",
        "import torch.nn.functional as F\n",
        "import torch.optim as optim\n",
        "from torchvision import datasets, transforms"
      ],
      "execution_count": 10,
      "outputs": []
    },
    {
      "cell_type": "code",
      "metadata": {
        "id": "h_Cx9q2QFgM7"
      },
      "source": [
        "class Net(nn.Module):\n",
        "    def __init__(self):\n",
        "        super(Net, self).__init__()\n",
        "        # original code - kept for reference.\n",
        "        # self.conv1 = nn.Conv2d(1, 32, 3, padding=1) #input: 28; Output: 28, RF: 3\n",
        "        # self.conv2 = nn.Conv2d(32, 64, 3, padding=1) #input: 28; Output: 28, RF: 5\n",
        "        # self.pool1 = nn.MaxPool2d(2, 2) #input: 28; Output: 14, RF: 6\n",
        "        # # self.fc1 = nn.Linear(in_features = 1792 * 14, out_features = 64)\n",
        "        # self.conv3 = nn.Conv2d(64, 128, 3, padding=1) #input: 14; Output: 14, RF: 10\n",
        "        # self.conv4 = nn.Conv2d(128, 256, 3, padding=1) #input: 14; Output: 14, RF: 14\n",
        "        # self.pool2 = nn.MaxPool2d(2, 2) #input: 14; Output: 7, RF: 16\n",
        "        # self.conv5 = nn.Conv2d(256, 512, 3) #input: 7; Output: 5, RF: 24\n",
        "        # self.conv6 = nn.Conv2d(512, 1024, 3) #input: 5; Output: 3, RF: 32\n",
        "        # self.conv7 = nn.Conv2d(1024, 10, 3) #input: 3; Output: 1, RF: 40\n",
        "\n",
        "        # reducing channels to 8, exploring with BN\n",
        "        # self.conv1 = nn.Conv2d(1, 8, 3, padding=1) #input: 28; Output: 28, RF: 3\n",
        "        # self.bn1 = nn.BatchNorm2d (8)\n",
        "        # self.conv2 = nn.Conv2d(8, 16, 3, padding=1) #input: 28; Output: 28, RF: 5\n",
        "        # self.bn2 = nn.BatchNorm2d (16)\n",
        "        # self.pool1 = nn.MaxPool2d(2, 2) #input: 28; Output: 14, RF: 6\n",
        "        # self.antman1 = nn.Conv2d(16, 16, 1)\n",
        "        # self.conv3 = nn.Conv2d(16, 32, 3, padding=1) #input: 14; Output: 14, RF: 10\n",
        "        # self.bn3 = nn.BatchNorm2d (32)\n",
        "        # self.conv4 = nn.Conv2d(32, 64, 3, padding=1) #input: 14; Output: 14, RF: 14\n",
        "        # self.bn4 = nn.BatchNorm2d (64)\n",
        "        # self.pool2 = nn.MaxPool2d(2, 2) #input: 14; Output: 7, RF: 16\n",
        "        # self.antman2 = nn.Conv2d(64, 64, 1)\n",
        "        # self.conv5 = nn.Conv2d(64, 128, 3) #input: 7; Output: 5, RF: 24\n",
        "        # self.bn5 = nn.BatchNorm2d (128)\n",
        "        # self.conv6 = nn.Conv2d(128, 256, 3) #input: 5; Output: 3, RF: 32\n",
        "        # self.bn6 = nn.BatchNorm2d (256)\n",
        "        # self.conv7 = nn.Conv2d(256, 10, 3) #input: 3; Output: 1, RF: 40\n",
        "        # #self.dropout = nn.Dropout(0.1)\n",
        "\n",
        "        # adding antman after MP to reduce output\n",
        "        self.conv1 = nn.Conv2d(1, 8, 3, padding=1) #input: 28; Output: 28, RF: 3\n",
        "        self.bn1 = nn.BatchNorm2d (8)\n",
        "        self.conv2 = nn.Conv2d(8, 16, 3, padding=1) #input: 28; Output: 28, RF: 5\n",
        "        self.bn2 = nn.BatchNorm2d (16)\n",
        "        self.pool1 = nn.MaxPool2d(2, 2) #input: 28; Output: 14, RF: 6\n",
        "        self.antman1 = nn.Conv2d(16, 8, 1)\n",
        "\n",
        "        self.conv3 = nn.Conv2d(8, 16, 3, padding=1) #input: 14; Output: 14, RF: 10\n",
        "        self.bn3 = nn.BatchNorm2d (16)\n",
        "        self.conv4 = nn.Conv2d(16, 32, 3, padding=1) #input: 14; Output: 14, RF: 14\n",
        "        self.bn4 = nn.BatchNorm2d (32)\n",
        "        self.pool2 = nn.MaxPool2d(2, 2) #input: 14; Output: 7, RF: 16\n",
        "        self.antman2 = nn.Conv2d(32, 8, 1)\n",
        "\n",
        "        self.conv5 = nn.Conv2d(8, 16, 3) #input: 7; Output: 5, RF: 24\n",
        "        self.bn5 = nn.BatchNorm2d (16)\n",
        "        self.conv6 = nn.Conv2d(16, 32, 3) #input: 5; Output: 3, RF: 32\n",
        "        self.bn6 = nn.BatchNorm2d (32)\n",
        "        self.conv7 = nn.Conv2d(32, 10, 3) #input: 3; Output: 1, RF: 40\n",
        "        self.dropout = nn.Dropout(0.1)\n",
        "\n",
        "    def forward(self, x):\n",
        "        # x = self.pool1(F.relu(self.conv2(F.relu(self.conv1(x)))))\n",
        "        # commenting out original, and breaking it up to be able to mix and match and test.\n",
        "        x = self.conv1(x)\n",
        "        x = F.relu(x)\n",
        "        x = self.dropout(x)\n",
        "        x = self.bn1(x)\n",
        "\n",
        "        x = self.conv2(x)\n",
        "        x = F.relu(x)\n",
        "        x = self.dropout(x)\n",
        "        x = self.bn2(x)\n",
        "\n",
        "        x = self.pool1(x)\n",
        "        x = self.antman1(x)\n",
        "\n",
        "        # x = self.pool2(F.relu(self.conv4(F.relu(self.conv3(x)))))\n",
        "        # commenting out original, and breaking it up to be able to mix and match and test.\n",
        "        x = self.conv3(x)\n",
        "        x = F.relu(x)\n",
        "        x = self.dropout(x)\n",
        "        x = self.bn3(x)\n",
        "\n",
        "        x = self.conv4(x)\n",
        "        x = F.relu(x)\n",
        "        x = self.dropout(x)\n",
        "        x = self.bn4(x)\n",
        "\n",
        "        x = self.pool2(x)\n",
        "        x = self.antman2(x)\n",
        "\n",
        "        # x = F.relu(self.conv6(F.relu(self.conv5(x))))\n",
        "        # commenting out original, and breaking it up to be able to mix and match and test.\n",
        "        x = self.conv5(x)\n",
        "        x = F.relu(x)\n",
        "        x = self.dropout(x)\n",
        "        x = self.bn5(x)\n",
        "\n",
        "        x = self.conv6(x)\n",
        "        x = F.relu(x)\n",
        "        x = self.dropout(x)\n",
        "        x = self.bn6(x)\n",
        "\n",
        "        # x = F.relu(self.conv7(x))\n",
        "        x = self.conv7(x)\n",
        "\n",
        "        x = x.view(-1, 10)\n",
        "        return F.log_softmax(x)"
      ],
      "execution_count": 11,
      "outputs": []
    },
    {
      "cell_type": "code",
      "metadata": {
        "id": "xdydjYTZFyi3",
        "colab": {
          "base_uri": "https://localhost:8080/"
        },
        "outputId": "184d787d-ee1f-418e-99e3-7b78b08efefb"
      },
      "source": [
        "!pip install torchsummary\n",
        "from torchsummary import summary\n",
        "use_cuda = torch.cuda.is_available()\n",
        "device = torch.device(\"cuda\" if use_cuda else \"cpu\")\n",
        "model = Net().to(device)\n",
        "summary(model, input_size=(1, 28, 28))"
      ],
      "execution_count": 12,
      "outputs": [
        {
          "output_type": "stream",
          "name": "stdout",
          "text": [
            "Requirement already satisfied: torchsummary in /usr/local/lib/python3.10/dist-packages (1.5.1)\n",
            "----------------------------------------------------------------\n",
            "        Layer (type)               Output Shape         Param #\n",
            "================================================================\n",
            "            Conv2d-1            [-1, 8, 28, 28]              80\n",
            "           Dropout-2            [-1, 8, 28, 28]               0\n",
            "       BatchNorm2d-3            [-1, 8, 28, 28]              16\n",
            "            Conv2d-4           [-1, 16, 28, 28]           1,168\n",
            "           Dropout-5           [-1, 16, 28, 28]               0\n",
            "       BatchNorm2d-6           [-1, 16, 28, 28]              32\n",
            "         MaxPool2d-7           [-1, 16, 14, 14]               0\n",
            "            Conv2d-8            [-1, 8, 14, 14]             136\n",
            "            Conv2d-9           [-1, 16, 14, 14]           1,168\n",
            "          Dropout-10           [-1, 16, 14, 14]               0\n",
            "      BatchNorm2d-11           [-1, 16, 14, 14]              32\n",
            "           Conv2d-12           [-1, 32, 14, 14]           4,640\n",
            "          Dropout-13           [-1, 32, 14, 14]               0\n",
            "      BatchNorm2d-14           [-1, 32, 14, 14]              64\n",
            "        MaxPool2d-15             [-1, 32, 7, 7]               0\n",
            "           Conv2d-16              [-1, 8, 7, 7]             264\n",
            "           Conv2d-17             [-1, 16, 5, 5]           1,168\n",
            "          Dropout-18             [-1, 16, 5, 5]               0\n",
            "      BatchNorm2d-19             [-1, 16, 5, 5]              32\n",
            "           Conv2d-20             [-1, 32, 3, 3]           4,640\n",
            "          Dropout-21             [-1, 32, 3, 3]               0\n",
            "      BatchNorm2d-22             [-1, 32, 3, 3]              64\n",
            "           Conv2d-23             [-1, 10, 1, 1]           2,890\n",
            "================================================================\n",
            "Total params: 16,394\n",
            "Trainable params: 16,394\n",
            "Non-trainable params: 0\n",
            "----------------------------------------------------------------\n",
            "Input size (MB): 0.00\n",
            "Forward/backward pass size (MB): 0.71\n",
            "Params size (MB): 0.06\n",
            "Estimated Total Size (MB): 0.78\n",
            "----------------------------------------------------------------\n"
          ]
        },
        {
          "output_type": "stream",
          "name": "stderr",
          "text": [
            "<ipython-input-11-d14b2b23b027>:105: UserWarning: Implicit dimension choice for log_softmax has been deprecated. Change the call to include dim=X as an argument.\n",
            "  return F.log_softmax(x)\n"
          ]
        }
      ]
    },
    {
      "cell_type": "code",
      "metadata": {
        "id": "DqTWLaM5GHgH"
      },
      "source": [
        "\n",
        "\n",
        "torch.manual_seed(1)\n",
        "batch_size = 128\n",
        "\n",
        "kwargs = {'num_workers': 1, 'pin_memory': True} if use_cuda else {}\n",
        "train_loader = torch.utils.data.DataLoader(\n",
        "    datasets.MNIST('../data', train=True, download=True,\n",
        "                    transform=transforms.Compose([\n",
        "                        transforms.ToTensor(),\n",
        "                        transforms.Normalize((0.1307,), (0.3081,))\n",
        "                    ])),\n",
        "    batch_size=batch_size, shuffle=True, **kwargs)\n",
        "test_loader = torch.utils.data.DataLoader(\n",
        "    datasets.MNIST('../data', train=False, transform=transforms.Compose([\n",
        "                        transforms.ToTensor(),\n",
        "                        transforms.Normalize((0.1307,), (0.3081,))\n",
        "                    ])),\n",
        "    batch_size=batch_size, shuffle=True, **kwargs)\n"
      ],
      "execution_count": 13,
      "outputs": []
    },
    {
      "cell_type": "code",
      "metadata": {
        "id": "8fDefDhaFlwH"
      },
      "source": [
        "from tqdm import tqdm\n",
        "def train(model, device, train_loader, optimizer, epoch):\n",
        "    model.train()\n",
        "    pbar = tqdm(train_loader)\n",
        "    for batch_idx, (data, target) in enumerate(pbar):\n",
        "        data, target = data.to(device), target.to(device)\n",
        "        optimizer.zero_grad()\n",
        "        output = model(data)\n",
        "        loss = F.nll_loss(output, target)\n",
        "        loss.backward()\n",
        "        optimizer.step()\n",
        "        pbar.set_description(desc= f'loss={loss.item()} batch_id={batch_idx}')\n",
        "\n",
        "\n",
        "def test(model, device, test_loader):\n",
        "    model.eval()\n",
        "    test_loss = 0\n",
        "    correct = 0\n",
        "    with torch.no_grad():\n",
        "        for data, target in test_loader:\n",
        "            data, target = data.to(device), target.to(device)\n",
        "            output = model(data)\n",
        "            test_loss += F.nll_loss(output, target, reduction='sum').item()  # sum up batch loss\n",
        "            pred = output.argmax(dim=1, keepdim=True)  # get the index of the max log-probability\n",
        "            correct += pred.eq(target.view_as(pred)).sum().item()\n",
        "\n",
        "    test_loss /= len(test_loader.dataset)\n",
        "\n",
        "    print('\\nTest set: Average loss: {:.4f}, Accuracy: {}/{} ({:.0f}%)\\n'.format(\n",
        "        test_loss, correct, len(test_loader.dataset),\n",
        "        100. * correct / len(test_loader.dataset)))"
      ],
      "execution_count": 14,
      "outputs": []
    },
    {
      "cell_type": "code",
      "metadata": {
        "id": "MMWbLWO6FuHb",
        "colab": {
          "base_uri": "https://localhost:8080/"
        },
        "outputId": "da855010-f48c-42d4-82c8-85e768e14429"
      },
      "source": [
        "\n",
        "model = Net().to(device)\n",
        "optimizer = optim.SGD(model.parameters(), lr=0.01, momentum=0.9)\n",
        "\n",
        "for epoch in range(1, 20):\n",
        "    train(model, device, train_loader, optimizer, epoch)\n",
        "    test(model, device, test_loader)"
      ],
      "execution_count": 15,
      "outputs": [
        {
          "output_type": "stream",
          "name": "stderr",
          "text": [
            "  0%|          | 0/469 [00:00<?, ?it/s]<ipython-input-11-d14b2b23b027>:105: UserWarning: Implicit dimension choice for log_softmax has been deprecated. Change the call to include dim=X as an argument.\n",
            "  return F.log_softmax(x)\n",
            "loss=0.06969023495912552 batch_id=468: 100%|██████████| 469/469 [00:22<00:00, 20.54it/s]\n"
          ]
        },
        {
          "output_type": "stream",
          "name": "stdout",
          "text": [
            "\n",
            "Test set: Average loss: 0.0610, Accuracy: 9828/10000 (98%)\n",
            "\n"
          ]
        },
        {
          "output_type": "stream",
          "name": "stderr",
          "text": [
            "loss=0.016963116824626923 batch_id=468: 100%|██████████| 469/469 [00:18<00:00, 25.65it/s]\n"
          ]
        },
        {
          "output_type": "stream",
          "name": "stdout",
          "text": [
            "\n",
            "Test set: Average loss: 0.0462, Accuracy: 9866/10000 (99%)\n",
            "\n"
          ]
        },
        {
          "output_type": "stream",
          "name": "stderr",
          "text": [
            "loss=0.008798043243587017 batch_id=468: 100%|██████████| 469/469 [00:18<00:00, 25.96it/s]\n"
          ]
        },
        {
          "output_type": "stream",
          "name": "stdout",
          "text": [
            "\n",
            "Test set: Average loss: 0.0307, Accuracy: 9909/10000 (99%)\n",
            "\n"
          ]
        },
        {
          "output_type": "stream",
          "name": "stderr",
          "text": [
            "loss=0.026779597625136375 batch_id=468: 100%|██████████| 469/469 [00:20<00:00, 23.27it/s]\n"
          ]
        },
        {
          "output_type": "stream",
          "name": "stdout",
          "text": [
            "\n",
            "Test set: Average loss: 0.0297, Accuracy: 9907/10000 (99%)\n",
            "\n"
          ]
        },
        {
          "output_type": "stream",
          "name": "stderr",
          "text": [
            "loss=0.002378729870542884 batch_id=468: 100%|██████████| 469/469 [00:18<00:00, 26.02it/s]\n"
          ]
        },
        {
          "output_type": "stream",
          "name": "stdout",
          "text": [
            "\n",
            "Test set: Average loss: 0.0374, Accuracy: 9890/10000 (99%)\n",
            "\n"
          ]
        },
        {
          "output_type": "stream",
          "name": "stderr",
          "text": [
            "loss=0.011408274061977863 batch_id=468: 100%|██████████| 469/469 [00:17<00:00, 26.69it/s]\n"
          ]
        },
        {
          "output_type": "stream",
          "name": "stdout",
          "text": [
            "\n",
            "Test set: Average loss: 0.0254, Accuracy: 9921/10000 (99%)\n",
            "\n"
          ]
        },
        {
          "output_type": "stream",
          "name": "stderr",
          "text": [
            "loss=0.058920059353113174 batch_id=468: 100%|██████████| 469/469 [00:18<00:00, 25.35it/s]\n"
          ]
        },
        {
          "output_type": "stream",
          "name": "stdout",
          "text": [
            "\n",
            "Test set: Average loss: 0.0243, Accuracy: 9922/10000 (99%)\n",
            "\n"
          ]
        },
        {
          "output_type": "stream",
          "name": "stderr",
          "text": [
            "loss=0.07393420487642288 batch_id=468: 100%|██████████| 469/469 [00:18<00:00, 25.95it/s]\n"
          ]
        },
        {
          "output_type": "stream",
          "name": "stdout",
          "text": [
            "\n",
            "Test set: Average loss: 0.0203, Accuracy: 9940/10000 (99%)\n",
            "\n"
          ]
        },
        {
          "output_type": "stream",
          "name": "stderr",
          "text": [
            "loss=0.006619926542043686 batch_id=468: 100%|██████████| 469/469 [00:17<00:00, 26.27it/s]\n"
          ]
        },
        {
          "output_type": "stream",
          "name": "stdout",
          "text": [
            "\n",
            "Test set: Average loss: 0.0225, Accuracy: 9928/10000 (99%)\n",
            "\n"
          ]
        },
        {
          "output_type": "stream",
          "name": "stderr",
          "text": [
            "loss=0.04479913040995598 batch_id=468: 100%|██████████| 469/469 [00:18<00:00, 25.74it/s]\n"
          ]
        },
        {
          "output_type": "stream",
          "name": "stdout",
          "text": [
            "\n",
            "Test set: Average loss: 0.0240, Accuracy: 9925/10000 (99%)\n",
            "\n"
          ]
        },
        {
          "output_type": "stream",
          "name": "stderr",
          "text": [
            "loss=0.0012128462549299002 batch_id=468: 100%|██████████| 469/469 [00:17<00:00, 26.33it/s]\n"
          ]
        },
        {
          "output_type": "stream",
          "name": "stdout",
          "text": [
            "\n",
            "Test set: Average loss: 0.0224, Accuracy: 9931/10000 (99%)\n",
            "\n"
          ]
        },
        {
          "output_type": "stream",
          "name": "stderr",
          "text": [
            "loss=0.029565775766968727 batch_id=468: 100%|██████████| 469/469 [00:18<00:00, 26.02it/s]\n"
          ]
        },
        {
          "output_type": "stream",
          "name": "stdout",
          "text": [
            "\n",
            "Test set: Average loss: 0.0213, Accuracy: 9930/10000 (99%)\n",
            "\n"
          ]
        },
        {
          "output_type": "stream",
          "name": "stderr",
          "text": [
            "loss=0.019758233800530434 batch_id=468: 100%|██████████| 469/469 [00:17<00:00, 26.19it/s]\n"
          ]
        },
        {
          "output_type": "stream",
          "name": "stdout",
          "text": [
            "\n",
            "Test set: Average loss: 0.0176, Accuracy: 9939/10000 (99%)\n",
            "\n"
          ]
        },
        {
          "output_type": "stream",
          "name": "stderr",
          "text": [
            "loss=0.009563480503857136 batch_id=468: 100%|██████████| 469/469 [00:17<00:00, 26.35it/s]\n"
          ]
        },
        {
          "output_type": "stream",
          "name": "stdout",
          "text": [
            "\n",
            "Test set: Average loss: 0.0183, Accuracy: 9944/10000 (99%)\n",
            "\n"
          ]
        },
        {
          "output_type": "stream",
          "name": "stderr",
          "text": [
            "loss=0.023868856951594353 batch_id=468: 100%|██████████| 469/469 [00:17<00:00, 26.34it/s]\n"
          ]
        },
        {
          "output_type": "stream",
          "name": "stdout",
          "text": [
            "\n",
            "Test set: Average loss: 0.0211, Accuracy: 9937/10000 (99%)\n",
            "\n"
          ]
        },
        {
          "output_type": "stream",
          "name": "stderr",
          "text": [
            "loss=0.007746455725282431 batch_id=468: 100%|██████████| 469/469 [00:18<00:00, 25.52it/s]\n"
          ]
        },
        {
          "output_type": "stream",
          "name": "stdout",
          "text": [
            "\n",
            "Test set: Average loss: 0.0197, Accuracy: 9935/10000 (99%)\n",
            "\n"
          ]
        },
        {
          "output_type": "stream",
          "name": "stderr",
          "text": [
            "loss=0.022342704236507416 batch_id=468: 100%|██████████| 469/469 [00:18<00:00, 25.62it/s]\n"
          ]
        },
        {
          "output_type": "stream",
          "name": "stdout",
          "text": [
            "\n",
            "Test set: Average loss: 0.0192, Accuracy: 9942/10000 (99%)\n",
            "\n"
          ]
        },
        {
          "output_type": "stream",
          "name": "stderr",
          "text": [
            "loss=0.0030432420317083597 batch_id=468: 100%|██████████| 469/469 [00:17<00:00, 26.69it/s]\n"
          ]
        },
        {
          "output_type": "stream",
          "name": "stdout",
          "text": [
            "\n",
            "Test set: Average loss: 0.0165, Accuracy: 9948/10000 (99%)\n",
            "\n"
          ]
        },
        {
          "output_type": "stream",
          "name": "stderr",
          "text": [
            "loss=0.06604822725057602 batch_id=468: 100%|██████████| 469/469 [00:18<00:00, 25.54it/s]\n"
          ]
        },
        {
          "output_type": "stream",
          "name": "stdout",
          "text": [
            "\n",
            "Test set: Average loss: 0.0200, Accuracy: 9934/10000 (99%)\n",
            "\n"
          ]
        }
      ]
    },
    {
      "cell_type": "code",
      "metadata": {
        "id": "So5uk4EkHW6R"
      },
      "source": [],
      "execution_count": 15,
      "outputs": []
    }
  ]
}