{
  "nbformat": 4,
  "nbformat_minor": 0,
  "metadata": {
    "colab": {
      "provenance": []
    },
    "kernelspec": {
      "name": "python3",
      "display_name": "Python 3"
    },
    "accelerator": "GPU"
  },
  "cells": [
    {
      "cell_type": "code",
      "metadata": {
        "id": "0m2JWFliFfKT"
      },
      "source": [
        "from __future__ import print_function\n",
        "import torch\n",
        "import torch.nn as nn\n",
        "import torch.nn.functional as F\n",
        "import torch.optim as optim\n",
        "from torchvision import datasets, transforms"
      ],
      "execution_count": 133,
      "outputs": []
    },
    {
      "cell_type": "code",
      "metadata": {
        "id": "h_Cx9q2QFgM7"
      },
      "source": [
        "class Net(nn.Module):\n",
        "    def __init__(self):\n",
        "        super(Net, self).__init__()\n",
        "        # self.conv1 = nn.Conv2d(1, 32, 3, padding=1) #input: 28; Output: 28, RF: 3\n",
        "        # self.conv2 = nn.Conv2d(32, 64, 3, padding=1) #input: 28; Output: 28, RF: 5\n",
        "        # self.pool1 = nn.MaxPool2d(2, 2) #input: 28; Output: 14, RF: 6\n",
        "        # # self.fc1 = nn.Linear(in_features = 1792 * 14, out_features = 64)\n",
        "        # self.conv3 = nn.Conv2d(64, 128, 3, padding=1) #input: 14; Output: 14, RF: 10\n",
        "        # self.conv4 = nn.Conv2d(128, 256, 3, padding=1) #input: 14; Output: 14, RF: 14\n",
        "        # self.pool2 = nn.MaxPool2d(2, 2) #input: 14; Output: 7, RF: 16\n",
        "        # self.conv5 = nn.Conv2d(256, 512, 3) #input: 7; Output: 5, RF: 24\n",
        "        # self.conv6 = nn.Conv2d(512, 1024, 3) #input: 5; Output: 3, RF: 32\n",
        "        # self.conv7 = nn.Conv2d(1024, 10, 3) #input: 3; Output: 1, RF: 40\n",
        "\n",
        "        # # reducing channels to 8\n",
        "        # self.conv1 = nn.Conv2d(1, 8, 3, padding=1) #input: 28; Output: 28, RF: 3\n",
        "        # self.bn1 = nn.BatchNorm2d (8)\n",
        "        # self.conv2 = nn.Conv2d(8, 16, 3, padding=1) #input: 28; Output: 28, RF: 5\n",
        "        # self.bn2 = nn.BatchNorm2d (16)\n",
        "        # self.pool1 = nn.MaxPool2d(2, 2) #input: 28; Output: 14, RF: 6\n",
        "        # self.antman1 = nn.Conv2d(16, 16, 1)\n",
        "        # self.conv3 = nn.Conv2d(16, 32, 3, padding=1) #input: 14; Output: 14, RF: 10\n",
        "        # self.bn3 = nn.BatchNorm2d (32)\n",
        "        # self.conv4 = nn.Conv2d(32, 64, 3, padding=1) #input: 14; Output: 14, RF: 14\n",
        "        # self.bn4 = nn.BatchNorm2d (64)\n",
        "        # self.pool2 = nn.MaxPool2d(2, 2) #input: 14; Output: 7, RF: 16\n",
        "        # self.antman2 = nn.Conv2d(64, 64, 1)\n",
        "        # self.conv5 = nn.Conv2d(64, 128, 3) #input: 7; Output: 5, RF: 24\n",
        "        # self.bn5 = nn.BatchNorm2d (128)\n",
        "        # self.conv6 = nn.Conv2d(128, 256, 3) #input: 5; Output: 3, RF: 32\n",
        "        # self.bn6 = nn.BatchNorm2d (256)\n",
        "        # self.conv7 = nn.Conv2d(256, 10, 3) #input: 3; Output: 1, RF: 40\n",
        "        # #self.dropout = nn.Dropout(0.1)\n",
        "\n",
        "        # changing antman to reduce output\n",
        "        self.conv1 = nn.Conv2d(1, 8, 3, padding=1) #input: 28; Output: 28, RF: 3\n",
        "        self.bn1 = nn.BatchNorm2d (8)\n",
        "        self.conv2 = nn.Conv2d(8, 16, 3, padding=1) #input: 28; Output: 28, RF: 5\n",
        "        self.bn2 = nn.BatchNorm2d (16)\n",
        "        self.pool1 = nn.MaxPool2d(2, 2) #input: 28; Output: 14, RF: 6\n",
        "        self.antman1 = nn.Conv2d(16, 8, 1)\n",
        "        self.conv3 = nn.Conv2d(8, 16, 3, padding=1) #input: 14; Output: 14, RF: 10\n",
        "        self.bn3 = nn.BatchNorm2d (16)\n",
        "        self.conv4 = nn.Conv2d(16, 32, 3, padding=1) #input: 14; Output: 14, RF: 14\n",
        "        self.bn4 = nn.BatchNorm2d (32)\n",
        "        self.pool2 = nn.MaxPool2d(2, 2) #input: 14; Output: 7, RF: 16\n",
        "        self.antman2 = nn.Conv2d(32, 8, 1)\n",
        "        self.conv5 = nn.Conv2d(8, 16, 3) #input: 7; Output: 5, RF: 24\n",
        "        self.bn5 = nn.BatchNorm2d (16)\n",
        "        self.conv6 = nn.Conv2d(16, 32, 3) #input: 5; Output: 3, RF: 32\n",
        "        self.bn6 = nn.BatchNorm2d (32)\n",
        "        self.conv7 = nn.Conv2d(32, 10, 3) #input: 3; Output: 1, RF: 40\n",
        "        self.dropout = nn.Dropout(0.1)\n",
        "\n",
        "    def forward(self, x):\n",
        "        # x = self.pool1(F.relu(self.conv2(F.relu(self.conv1(x)))))\n",
        "        x = self.conv1(x)\n",
        "        x = F.relu(x)\n",
        "        x = self.bn1(x)\n",
        "        x = self.dropout(x)\n",
        "\n",
        "        x = self.conv2(x)\n",
        "        x = F.relu(x)\n",
        "        x = self.bn2(x)\n",
        "        x = self.dropout(x)\n",
        "\n",
        "        x = self.pool1(x)\n",
        "        x = self.antman1(x)\n",
        "\n",
        "        # x = self.pool2(F.relu(self.conv4(F.relu(self.conv3(x)))))\n",
        "        x = self.conv3(x)\n",
        "        x = F.relu(x)\n",
        "        x = self.bn3(x)\n",
        "        x = self.dropout(x)\n",
        "\n",
        "        x = self.conv4(x)\n",
        "        x = F.relu(x)\n",
        "        x = self.bn4(x)\n",
        "        x = self.dropout(x)\n",
        "\n",
        "        x = self.pool2(x)\n",
        "        x = self.antman2(x)\n",
        "\n",
        "        # x = F.relu(self.conv6(F.relu(self.conv5(x))))\n",
        "        x = self.conv5(x)\n",
        "        x = F.relu(x)\n",
        "        x = self.bn5(x)\n",
        "        x = self.dropout(x)\n",
        "\n",
        "        x = self.conv6(x)\n",
        "        x = F.relu(x)\n",
        "        x = self.bn6(x)\n",
        "        x = self.dropout(x)\n",
        "\n",
        "        # x = F.relu(self.conv7(x))\n",
        "        x = self.conv7(x)\n",
        "\n",
        "        x = x.view(-1, 10)\n",
        "        return F.log_softmax(x)"
      ],
      "execution_count": 134,
      "outputs": []
    },
    {
      "cell_type": "code",
      "metadata": {
        "id": "xdydjYTZFyi3",
        "colab": {
          "base_uri": "https://localhost:8080/"
        },
        "outputId": "55845936-88e4-4b53-c6b3-2fe5d7e6eb25"
      },
      "source": [
        "!pip install torchsummary\n",
        "from torchsummary import summary\n",
        "use_cuda = torch.cuda.is_available()\n",
        "device = torch.device(\"cuda\" if use_cuda else \"cpu\")\n",
        "model = Net().to(device)\n",
        "summary(model, input_size=(1, 28, 28))"
      ],
      "execution_count": 135,
      "outputs": [
        {
          "output_type": "stream",
          "name": "stdout",
          "text": [
            "Requirement already satisfied: torchsummary in /usr/local/lib/python3.10/dist-packages (1.5.1)\n",
            "----------------------------------------------------------------\n",
            "        Layer (type)               Output Shape         Param #\n",
            "================================================================\n",
            "            Conv2d-1            [-1, 8, 28, 28]              80\n",
            "       BatchNorm2d-2            [-1, 8, 28, 28]              16\n",
            "           Dropout-3            [-1, 8, 28, 28]               0\n",
            "            Conv2d-4           [-1, 16, 28, 28]           1,168\n",
            "       BatchNorm2d-5           [-1, 16, 28, 28]              32\n",
            "           Dropout-6           [-1, 16, 28, 28]               0\n",
            "         MaxPool2d-7           [-1, 16, 14, 14]               0\n",
            "            Conv2d-8            [-1, 8, 14, 14]             136\n",
            "            Conv2d-9           [-1, 16, 14, 14]           1,168\n",
            "      BatchNorm2d-10           [-1, 16, 14, 14]              32\n",
            "          Dropout-11           [-1, 16, 14, 14]               0\n",
            "           Conv2d-12           [-1, 32, 14, 14]           4,640\n",
            "      BatchNorm2d-13           [-1, 32, 14, 14]              64\n",
            "          Dropout-14           [-1, 32, 14, 14]               0\n",
            "        MaxPool2d-15             [-1, 32, 7, 7]               0\n",
            "           Conv2d-16              [-1, 8, 7, 7]             264\n",
            "           Conv2d-17             [-1, 16, 5, 5]           1,168\n",
            "      BatchNorm2d-18             [-1, 16, 5, 5]              32\n",
            "          Dropout-19             [-1, 16, 5, 5]               0\n",
            "           Conv2d-20             [-1, 32, 3, 3]           4,640\n",
            "      BatchNorm2d-21             [-1, 32, 3, 3]              64\n",
            "          Dropout-22             [-1, 32, 3, 3]               0\n",
            "           Conv2d-23             [-1, 10, 1, 1]           2,890\n",
            "================================================================\n",
            "Total params: 16,394\n",
            "Trainable params: 16,394\n",
            "Non-trainable params: 0\n",
            "----------------------------------------------------------------\n",
            "Input size (MB): 0.00\n",
            "Forward/backward pass size (MB): 0.71\n",
            "Params size (MB): 0.06\n",
            "Estimated Total Size (MB): 0.78\n",
            "----------------------------------------------------------------\n"
          ]
        },
        {
          "output_type": "stream",
          "name": "stderr",
          "text": [
            "<ipython-input-134-cc08b614d854>:99: UserWarning: Implicit dimension choice for log_softmax has been deprecated. Change the call to include dim=X as an argument.\n",
            "  return F.log_softmax(x)\n"
          ]
        }
      ]
    },
    {
      "cell_type": "code",
      "metadata": {
        "id": "DqTWLaM5GHgH"
      },
      "source": [
        "\n",
        "\n",
        "torch.manual_seed(1)\n",
        "batch_size = 128\n",
        "\n",
        "kwargs = {'num_workers': 1, 'pin_memory': True} if use_cuda else {}\n",
        "train_loader = torch.utils.data.DataLoader(\n",
        "    datasets.MNIST('../data', train=True, download=True,\n",
        "                    transform=transforms.Compose([\n",
        "                        transforms.ToTensor(),\n",
        "                        transforms.Normalize((0.1307,), (0.3081,))\n",
        "                    ])),\n",
        "    batch_size=batch_size, shuffle=True, **kwargs)\n",
        "test_loader = torch.utils.data.DataLoader(\n",
        "    datasets.MNIST('../data', train=False, transform=transforms.Compose([\n",
        "                        transforms.ToTensor(),\n",
        "                        transforms.Normalize((0.1307,), (0.3081,))\n",
        "                    ])),\n",
        "    batch_size=batch_size, shuffle=True, **kwargs)\n"
      ],
      "execution_count": 136,
      "outputs": []
    },
    {
      "cell_type": "code",
      "metadata": {
        "id": "8fDefDhaFlwH"
      },
      "source": [
        "from tqdm import tqdm\n",
        "def train(model, device, train_loader, optimizer, epoch):\n",
        "    model.train()\n",
        "    pbar = tqdm(train_loader)\n",
        "    for batch_idx, (data, target) in enumerate(pbar):\n",
        "        data, target = data.to(device), target.to(device)\n",
        "        optimizer.zero_grad()\n",
        "        output = model(data)\n",
        "        loss = F.nll_loss(output, target)\n",
        "        loss.backward()\n",
        "        optimizer.step()\n",
        "        pbar.set_description(desc= f'loss={loss.item()} batch_id={batch_idx}')\n",
        "\n",
        "\n",
        "def test(model, device, test_loader):\n",
        "    model.eval()\n",
        "    test_loss = 0\n",
        "    correct = 0\n",
        "    with torch.no_grad():\n",
        "        for data, target in test_loader:\n",
        "            data, target = data.to(device), target.to(device)\n",
        "            output = model(data)\n",
        "            test_loss += F.nll_loss(output, target, reduction='sum').item()  # sum up batch loss\n",
        "            pred = output.argmax(dim=1, keepdim=True)  # get the index of the max log-probability\n",
        "            correct += pred.eq(target.view_as(pred)).sum().item()\n",
        "\n",
        "    test_loss /= len(test_loader.dataset)\n",
        "\n",
        "    print('\\nTest set: Average loss: {:.4f}, Accuracy: {}/{} ({:.0f}%)\\n'.format(\n",
        "        test_loss, correct, len(test_loader.dataset),\n",
        "        100. * correct / len(test_loader.dataset)))"
      ],
      "execution_count": 137,
      "outputs": []
    },
    {
      "cell_type": "code",
      "metadata": {
        "id": "MMWbLWO6FuHb",
        "colab": {
          "base_uri": "https://localhost:8080/"
        },
        "outputId": "7548eda9-a4f9-4f30-8024-55823d300047"
      },
      "source": [
        "\n",
        "model = Net().to(device)\n",
        "optimizer = optim.SGD(model.parameters(), lr=0.01, momentum=0.9)\n",
        "\n",
        "for epoch in range(1, 20):\n",
        "    train(model, device, train_loader, optimizer, epoch)\n",
        "    test(model, device, test_loader)"
      ],
      "execution_count": 138,
      "outputs": [
        {
          "output_type": "stream",
          "name": "stderr",
          "text": [
            "  0%|          | 0/469 [00:00<?, ?it/s]<ipython-input-134-cc08b614d854>:99: UserWarning: Implicit dimension choice for log_softmax has been deprecated. Change the call to include dim=X as an argument.\n",
            "  return F.log_softmax(x)\n",
            "loss=0.07402382791042328 batch_id=468: 100%|██████████| 469/469 [00:16<00:00, 27.92it/s]\n"
          ]
        },
        {
          "output_type": "stream",
          "name": "stdout",
          "text": [
            "\n",
            "Test set: Average loss: 0.1028, Accuracy: 9697/10000 (97%)\n",
            "\n"
          ]
        },
        {
          "output_type": "stream",
          "name": "stderr",
          "text": [
            "loss=0.005928864702582359 batch_id=468: 100%|██████████| 469/469 [00:17<00:00, 26.78it/s]\n"
          ]
        },
        {
          "output_type": "stream",
          "name": "stdout",
          "text": [
            "\n",
            "Test set: Average loss: 0.0470, Accuracy: 9857/10000 (99%)\n",
            "\n"
          ]
        },
        {
          "output_type": "stream",
          "name": "stderr",
          "text": [
            "loss=0.010493314824998379 batch_id=468: 100%|██████████| 469/469 [00:17<00:00, 26.92it/s]\n"
          ]
        },
        {
          "output_type": "stream",
          "name": "stdout",
          "text": [
            "\n",
            "Test set: Average loss: 0.0417, Accuracy: 9876/10000 (99%)\n",
            "\n"
          ]
        },
        {
          "output_type": "stream",
          "name": "stderr",
          "text": [
            "loss=0.042016610503196716 batch_id=468: 100%|██████████| 469/469 [00:17<00:00, 27.29it/s]\n"
          ]
        },
        {
          "output_type": "stream",
          "name": "stdout",
          "text": [
            "\n",
            "Test set: Average loss: 0.0464, Accuracy: 9852/10000 (99%)\n",
            "\n"
          ]
        },
        {
          "output_type": "stream",
          "name": "stderr",
          "text": [
            "loss=0.00630986550822854 batch_id=468: 100%|██████████| 469/469 [00:17<00:00, 26.69it/s]\n"
          ]
        },
        {
          "output_type": "stream",
          "name": "stdout",
          "text": [
            "\n",
            "Test set: Average loss: 0.0354, Accuracy: 9890/10000 (99%)\n",
            "\n"
          ]
        },
        {
          "output_type": "stream",
          "name": "stderr",
          "text": [
            "loss=0.039570700377225876 batch_id=468: 100%|██████████| 469/469 [00:17<00:00, 27.51it/s]\n"
          ]
        },
        {
          "output_type": "stream",
          "name": "stdout",
          "text": [
            "\n",
            "Test set: Average loss: 0.0289, Accuracy: 9902/10000 (99%)\n",
            "\n"
          ]
        },
        {
          "output_type": "stream",
          "name": "stderr",
          "text": [
            "loss=0.050333086401224136 batch_id=468: 100%|██████████| 469/469 [00:17<00:00, 27.54it/s]\n"
          ]
        },
        {
          "output_type": "stream",
          "name": "stdout",
          "text": [
            "\n",
            "Test set: Average loss: 0.0273, Accuracy: 9910/10000 (99%)\n",
            "\n"
          ]
        },
        {
          "output_type": "stream",
          "name": "stderr",
          "text": [
            "loss=0.035816740244627 batch_id=468: 100%|██████████| 469/469 [00:17<00:00, 26.66it/s]\n"
          ]
        },
        {
          "output_type": "stream",
          "name": "stdout",
          "text": [
            "\n",
            "Test set: Average loss: 0.0289, Accuracy: 9903/10000 (99%)\n",
            "\n"
          ]
        },
        {
          "output_type": "stream",
          "name": "stderr",
          "text": [
            "loss=0.009776442311704159 batch_id=468: 100%|██████████| 469/469 [00:17<00:00, 26.33it/s]\n"
          ]
        },
        {
          "output_type": "stream",
          "name": "stdout",
          "text": [
            "\n",
            "Test set: Average loss: 0.0238, Accuracy: 9914/10000 (99%)\n",
            "\n"
          ]
        },
        {
          "output_type": "stream",
          "name": "stderr",
          "text": [
            "loss=0.006810008082538843 batch_id=468: 100%|██████████| 469/469 [00:16<00:00, 27.60it/s]\n"
          ]
        },
        {
          "output_type": "stream",
          "name": "stdout",
          "text": [
            "\n",
            "Test set: Average loss: 0.0224, Accuracy: 9921/10000 (99%)\n",
            "\n"
          ]
        },
        {
          "output_type": "stream",
          "name": "stderr",
          "text": [
            "loss=0.001546173938550055 batch_id=468: 100%|██████████| 469/469 [00:17<00:00, 26.61it/s]\n"
          ]
        },
        {
          "output_type": "stream",
          "name": "stdout",
          "text": [
            "\n",
            "Test set: Average loss: 0.0219, Accuracy: 9918/10000 (99%)\n",
            "\n"
          ]
        },
        {
          "output_type": "stream",
          "name": "stderr",
          "text": [
            "loss=0.04741545021533966 batch_id=468: 100%|██████████| 469/469 [00:17<00:00, 27.22it/s]\n"
          ]
        },
        {
          "output_type": "stream",
          "name": "stdout",
          "text": [
            "\n",
            "Test set: Average loss: 0.0287, Accuracy: 9903/10000 (99%)\n",
            "\n"
          ]
        },
        {
          "output_type": "stream",
          "name": "stderr",
          "text": [
            "loss=0.023377137258648872 batch_id=468: 100%|██████████| 469/469 [00:17<00:00, 27.21it/s]\n"
          ]
        },
        {
          "output_type": "stream",
          "name": "stdout",
          "text": [
            "\n",
            "Test set: Average loss: 0.0271, Accuracy: 9912/10000 (99%)\n",
            "\n"
          ]
        },
        {
          "output_type": "stream",
          "name": "stderr",
          "text": [
            "loss=0.038540203124284744 batch_id=468: 100%|██████████| 469/469 [00:17<00:00, 26.65it/s]\n"
          ]
        },
        {
          "output_type": "stream",
          "name": "stdout",
          "text": [
            "\n",
            "Test set: Average loss: 0.0225, Accuracy: 9929/10000 (99%)\n",
            "\n"
          ]
        },
        {
          "output_type": "stream",
          "name": "stderr",
          "text": [
            "loss=0.010716472752392292 batch_id=468: 100%|██████████| 469/469 [00:16<00:00, 27.76it/s]\n"
          ]
        },
        {
          "output_type": "stream",
          "name": "stdout",
          "text": [
            "\n",
            "Test set: Average loss: 0.0233, Accuracy: 9919/10000 (99%)\n",
            "\n"
          ]
        },
        {
          "output_type": "stream",
          "name": "stderr",
          "text": [
            "loss=0.014978923834860325 batch_id=468: 100%|██████████| 469/469 [00:17<00:00, 26.83it/s]\n"
          ]
        },
        {
          "output_type": "stream",
          "name": "stdout",
          "text": [
            "\n",
            "Test set: Average loss: 0.0221, Accuracy: 9919/10000 (99%)\n",
            "\n"
          ]
        },
        {
          "output_type": "stream",
          "name": "stderr",
          "text": [
            "loss=0.008721436373889446 batch_id=468: 100%|██████████| 469/469 [00:16<00:00, 27.97it/s]\n"
          ]
        },
        {
          "output_type": "stream",
          "name": "stdout",
          "text": [
            "\n",
            "Test set: Average loss: 0.0217, Accuracy: 9926/10000 (99%)\n",
            "\n"
          ]
        },
        {
          "output_type": "stream",
          "name": "stderr",
          "text": [
            "loss=0.005983587354421616 batch_id=468: 100%|██████████| 469/469 [00:16<00:00, 27.92it/s]\n"
          ]
        },
        {
          "output_type": "stream",
          "name": "stdout",
          "text": [
            "\n",
            "Test set: Average loss: 0.0204, Accuracy: 9931/10000 (99%)\n",
            "\n"
          ]
        },
        {
          "output_type": "stream",
          "name": "stderr",
          "text": [
            "loss=0.049422238022089005 batch_id=468: 100%|██████████| 469/469 [00:17<00:00, 26.93it/s]\n"
          ]
        },
        {
          "output_type": "stream",
          "name": "stdout",
          "text": [
            "\n",
            "Test set: Average loss: 0.0218, Accuracy: 9923/10000 (99%)\n",
            "\n"
          ]
        }
      ]
    },
    {
      "cell_type": "code",
      "metadata": {
        "id": "So5uk4EkHW6R"
      },
      "source": [],
      "execution_count": 138,
      "outputs": []
    }
  ]
}